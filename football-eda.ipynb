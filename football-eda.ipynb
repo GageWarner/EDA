{
 "cells": [
  {
   "cell_type": "code",
   "execution_count": 1,
   "id": "1fa5d8e4",
   "metadata": {
    "_cell_guid": "b1076dfc-b9ad-4769-8c92-a6c4dae69d19",
    "_uuid": "8f2839f25d086af736a60e9eeb907d3b93b6e0e5",
    "execution": {
     "iopub.execute_input": "2024-05-05T17:09:21.380454Z",
     "iopub.status.busy": "2024-05-05T17:09:21.379939Z",
     "iopub.status.idle": "2024-05-05T17:09:24.054955Z",
     "shell.execute_reply": "2024-05-05T17:09:24.053933Z"
    },
    "papermill": {
     "duration": 2.683434,
     "end_time": "2024-05-05T17:09:24.057437",
     "exception": false,
     "start_time": "2024-05-05T17:09:21.374003",
     "status": "completed"
    },
    "tags": []
   },
   "outputs": [
    {
     "name": "stdout",
     "output_type": "stream",
     "text": [
      "/kaggle/input/fifa-21-messy-raw-dataset-for-cleaning-exploring/fifa21 raw data v2.csv\n",
      "/kaggle/input/fifa-21-messy-raw-dataset-for-cleaning-exploring/fifa21_raw_data.csv\n"
     ]
    }
   ],
   "source": [
    "#Here I imported libraries needed to do basic EDA\n",
    "import numpy as np \n",
    "import pandas as pd \n",
    "pd.set_option('display.max_rows', 120)\n",
    "\n",
    "#Here I am importing Python libraries for data visualization\n",
    "pd.plotting.register_matplotlib_converters()\n",
    "import matplotlib.pyplot as plt\n",
    "%matplotlib inline\n",
    "import seaborn as sns\n",
    "\n",
    "#This is where we are reading in the outside csv file\n",
    "fifa_df = pd.read_csv('../input/fifa-21-messy-raw-dataset-for-cleaning-exploring/fifa21_raw_data.csv', low_memory=False)\n",
    "\n",
    "\n",
    "import os\n",
    "for dirname, _, filenames in os.walk('/kaggle/input'):\n",
    "    for filename in filenames:\n",
    "        print(os.path.join(dirname, filename))"
   ]
  },
  {
   "cell_type": "code",
   "execution_count": 2,
   "id": "747e49a5",
   "metadata": {
    "execution": {
     "iopub.execute_input": "2024-05-05T17:09:24.067529Z",
     "iopub.status.busy": "2024-05-05T17:09:24.066714Z",
     "iopub.status.idle": "2024-05-05T17:09:24.097689Z",
     "shell.execute_reply": "2024-05-05T17:09:24.096656Z"
    },
    "papermill": {
     "duration": 0.038252,
     "end_time": "2024-05-05T17:09:24.100046",
     "exception": false,
     "start_time": "2024-05-05T17:09:24.061794",
     "status": "completed"
    },
    "tags": []
   },
   "outputs": [],
   "source": [
    "#The idea behind this was to get rid of data that wasn't needed at first to clean up the space. I didn't think we needed the URL for the player and photo, this can be readded later if needed. \n",
    "#To get rid of the data not needed I used the .drop command\n",
    "fifa_df = fifa_df.drop(columns=['photoUrl'])\n",
    "fifa_df = fifa_df.drop(columns=['playerUrl'])\n",
    "#Here I wanted to rename the columns, used the .rename command\n",
    "fifa_df = fifa_df.rename(columns={'Weight': 'Weight: lbs'})"
   ]
  },
  {
   "cell_type": "code",
   "execution_count": 3,
   "id": "7d674b5f",
   "metadata": {
    "execution": {
     "iopub.execute_input": "2024-05-05T17:09:24.109714Z",
     "iopub.status.busy": "2024-05-05T17:09:24.109364Z",
     "iopub.status.idle": "2024-05-05T17:09:24.132479Z",
     "shell.execute_reply": "2024-05-05T17:09:24.131510Z"
    },
    "papermill": {
     "duration": 0.030305,
     "end_time": "2024-05-05T17:09:24.134670",
     "exception": false,
     "start_time": "2024-05-05T17:09:24.104365",
     "status": "completed"
    },
    "tags": []
   },
   "outputs": [],
   "source": [
    "fifa_df['Joined'] = pd.to_datetime(fifa_df['Joined'])"
   ]
  },
  {
   "cell_type": "code",
   "execution_count": 4,
   "id": "a365e91c",
   "metadata": {
    "execution": {
     "iopub.execute_input": "2024-05-05T17:09:24.145184Z",
     "iopub.status.busy": "2024-05-05T17:09:24.144436Z",
     "iopub.status.idle": "2024-05-05T17:09:24.154703Z",
     "shell.execute_reply": "2024-05-05T17:09:24.153745Z"
    },
    "papermill": {
     "duration": 0.017902,
     "end_time": "2024-05-05T17:09:24.156892",
     "exception": false,
     "start_time": "2024-05-05T17:09:24.138990",
     "status": "completed"
    },
    "tags": []
   },
   "outputs": [],
   "source": [
    "#Here I wanted to change the data format to have seperate columns for day, month, year\n",
    "fifa_df['day'] = fifa_df['Joined'].dt.day\n",
    "fifa_df['month'] = fifa_df['Joined'].dt.month\n",
    "fifa_df['year'] = fifa_df['Joined'].dt.year"
   ]
  },
  {
   "cell_type": "code",
   "execution_count": 5,
   "id": "72a12b45",
   "metadata": {
    "execution": {
     "iopub.execute_input": "2024-05-05T17:09:24.166558Z",
     "iopub.status.busy": "2024-05-05T17:09:24.166199Z",
     "iopub.status.idle": "2024-05-05T17:09:24.193326Z",
     "shell.execute_reply": "2024-05-05T17:09:24.192537Z"
    },
    "papermill": {
     "duration": 0.034387,
     "end_time": "2024-05-05T17:09:24.195594",
     "exception": false,
     "start_time": "2024-05-05T17:09:24.161207",
     "status": "completed"
    },
    "tags": []
   },
   "outputs": [],
   "source": [
    "#The Hits column started a new line, so I replaced it with just a space.\n",
    "fifa_df['Hits'] = fifa_df['Hits'].str.replace('\\n', ' ')\n",
    "#The Team & Contract column started a new line, so I replaced it with just a space.\n",
    "fifa_df['Team & Contract'] = fifa_df['Team & Contract'].str.replace('\\n', ' ')\n",
    "#The SM column ad a star in it, so I replaced it with just a space.\n",
    "fifa_df['SM'] = fifa_df['SM'].str.replace('★', ' ')"
   ]
  },
  {
   "cell_type": "code",
   "execution_count": 6,
   "id": "b550f317",
   "metadata": {
    "execution": {
     "iopub.execute_input": "2024-05-05T17:09:24.205645Z",
     "iopub.status.busy": "2024-05-05T17:09:24.205294Z",
     "iopub.status.idle": "2024-05-05T17:09:24.312786Z",
     "shell.execute_reply": "2024-05-05T17:09:24.311940Z"
    },
    "papermill": {
     "duration": 0.115362,
     "end_time": "2024-05-05T17:09:24.315132",
     "exception": false,
     "start_time": "2024-05-05T17:09:24.199770",
     "status": "completed"
    },
    "tags": []
   },
   "outputs": [],
   "source": [
    "#The Team & Contract columns were originally 2 different columns, here I joined them as one.\n",
    "fifa_df[['Team', 'Contract']] = fifa_df['Team & Contract'].str.split(' & ', expand=True)"
   ]
  },
  {
   "cell_type": "code",
   "execution_count": 7,
   "id": "e6e1377d",
   "metadata": {
    "execution": {
     "iopub.execute_input": "2024-05-05T17:09:24.324782Z",
     "iopub.status.busy": "2024-05-05T17:09:24.324443Z",
     "iopub.status.idle": "2024-05-05T17:09:24.339471Z",
     "shell.execute_reply": "2024-05-05T17:09:24.338698Z"
    },
    "papermill": {
     "duration": 0.022136,
     "end_time": "2024-05-05T17:09:24.341513",
     "exception": false,
     "start_time": "2024-05-05T17:09:24.319377",
     "status": "completed"
    },
    "tags": []
   },
   "outputs": [],
   "source": [
    "fifa_df['Weight: lbs'] = fifa_df['Weight: lbs'].str.replace('lbs', ' ')\n",
    "fifa_df['Weight: lbs']\n",
    "fifa_df['Weight: lbs'] = fifa_df['Weight: lbs'].astype(str).astype(int)"
   ]
  },
  {
   "cell_type": "code",
   "execution_count": 8,
   "id": "4facf8e1",
   "metadata": {
    "execution": {
     "iopub.execute_input": "2024-05-05T17:09:24.351058Z",
     "iopub.status.busy": "2024-05-05T17:09:24.350758Z",
     "iopub.status.idle": "2024-05-05T17:09:24.354866Z",
     "shell.execute_reply": "2024-05-05T17:09:24.353934Z"
    },
    "papermill": {
     "duration": 0.01134,
     "end_time": "2024-05-05T17:09:24.356940",
     "exception": false,
     "start_time": "2024-05-05T17:09:24.345600",
     "status": "completed"
    },
    "tags": []
   },
   "outputs": [],
   "source": [
    "#fifa_df['Wage'] = fifa_df['Wage'].str.replace('€', ' ')\n",
    "#fifa_df['Wage'] = fifa_df['Wage'].str.replace('K', ' ')\n",
    "#fifa_df['Wage'] = fifa_df['Wage'].astype(str).astype(int)"
   ]
  },
  {
   "cell_type": "code",
   "execution_count": 9,
   "id": "2d1fd3cd",
   "metadata": {
    "execution": {
     "iopub.execute_input": "2024-05-05T17:09:24.366677Z",
     "iopub.status.busy": "2024-05-05T17:09:24.365941Z",
     "iopub.status.idle": "2024-05-05T17:09:24.369933Z",
     "shell.execute_reply": "2024-05-05T17:09:24.369054Z"
    },
    "papermill": {
     "duration": 0.01091,
     "end_time": "2024-05-05T17:09:24.371928",
     "exception": false,
     "start_time": "2024-05-05T17:09:24.361018",
     "status": "completed"
    },
    "tags": []
   },
   "outputs": [],
   "source": [
    "#fifa_df['Value'] = fifa_df['Value'].str.replace('€', ' ')\n",
    "#fifa_df['Value'] = fifa_df['Value'].str.replace('M', ' ')\n",
    "#fifa_df['Value'] = fifa_df['Value'].str.replace('K', ' ')\n",
    "#fifa_df['Value'] = fifa_df['Value'].astype(float).astype(int)"
   ]
  },
  {
   "cell_type": "code",
   "execution_count": 10,
   "id": "14e8a4ae",
   "metadata": {
    "execution": {
     "iopub.execute_input": "2024-05-05T17:09:24.381691Z",
     "iopub.status.busy": "2024-05-05T17:09:24.381022Z",
     "iopub.status.idle": "2024-05-05T17:09:24.387208Z",
     "shell.execute_reply": "2024-05-05T17:09:24.386278Z"
    },
    "papermill": {
     "duration": 0.013438,
     "end_time": "2024-05-05T17:09:24.389435",
     "exception": false,
     "start_time": "2024-05-05T17:09:24.375997",
     "status": "completed"
    },
    "tags": []
   },
   "outputs": [],
   "source": [
    "#This was personally the hardest part for me. Trying to figure out to convert the M's and K's to Euro's. As you can see the above two code cells are what I tried doing, but ultimately did not work.\n",
    "\n",
    "#This code block is what I ended up googling and coming up with and it worked with my dataset. \n",
    "\n",
    "#The reason I kept my code and explained it this way, this shows my thought process of running into a road block and having to find a way to keep going rather than giving up.\n",
    "\n",
    "def value_setting(value): \n",
    "    if isinstance(value, str):\n",
    "        if value.find(\"M\") != -1:\n",
    "            return int(float(value.replace(\"M\", \"\").replace('€', '')) * 1000000)\n",
    "        elif value.find(\"K\") != -1: \n",
    "            return int(value.replace(\"K\", \"\").replace(\"€\", \"\")) * 1000 \n",
    "    else:\n",
    "        return int(value)"
   ]
  },
  {
   "cell_type": "code",
   "execution_count": 11,
   "id": "c2be0354",
   "metadata": {
    "execution": {
     "iopub.execute_input": "2024-05-05T17:09:24.399767Z",
     "iopub.status.busy": "2024-05-05T17:09:24.399072Z",
     "iopub.status.idle": "2024-05-05T17:09:24.449343Z",
     "shell.execute_reply": "2024-05-05T17:09:24.448454Z"
    },
    "papermill": {
     "duration": 0.057677,
     "end_time": "2024-05-05T17:09:24.451353",
     "exception": false,
     "start_time": "2024-05-05T17:09:24.393676",
     "status": "completed"
    },
    "tags": []
   },
   "outputs": [],
   "source": [
    "#Created a 'Value' and 'Wage' column that helped replace the M's and K's to the Euro sign. \n",
    "fifa_df['Value'] = fifa_df['Value'].apply(value_setting)\n",
    "fifa_df['Wage'] = fifa_df['Wage'].apply(value_setting)"
   ]
  },
  {
   "cell_type": "code",
   "execution_count": 12,
   "id": "8e8c1ae6",
   "metadata": {
    "execution": {
     "iopub.execute_input": "2024-05-05T17:09:24.461109Z",
     "iopub.status.busy": "2024-05-05T17:09:24.460551Z",
     "iopub.status.idle": "2024-05-05T17:09:24.479901Z",
     "shell.execute_reply": "2024-05-05T17:09:24.478950Z"
    },
    "papermill": {
     "duration": 0.026424,
     "end_time": "2024-05-05T17:09:24.482008",
     "exception": false,
     "start_time": "2024-05-05T17:09:24.455584",
     "status": "completed"
    },
    "tags": []
   },
   "outputs": [
    {
     "data": {
      "text/html": [
       "<div>\n",
       "<style scoped>\n",
       "    .dataframe tbody tr th:only-of-type {\n",
       "        vertical-align: middle;\n",
       "    }\n",
       "\n",
       "    .dataframe tbody tr th {\n",
       "        vertical-align: top;\n",
       "    }\n",
       "\n",
       "    .dataframe thead th {\n",
       "        text-align: right;\n",
       "    }\n",
       "</style>\n",
       "<table border=\"1\" class=\"dataframe\">\n",
       "  <thead>\n",
       "    <tr style=\"text-align: right;\">\n",
       "      <th></th>\n",
       "      <th>Wage</th>\n",
       "      <th>Value</th>\n",
       "    </tr>\n",
       "  </thead>\n",
       "  <tbody>\n",
       "    <tr>\n",
       "      <th>0</th>\n",
       "      <td>560000.0</td>\n",
       "      <td>67500000.0</td>\n",
       "    </tr>\n",
       "    <tr>\n",
       "      <th>1</th>\n",
       "      <td>220000.0</td>\n",
       "      <td>46000000.0</td>\n",
       "    </tr>\n",
       "    <tr>\n",
       "      <th>2</th>\n",
       "      <td>125000.0</td>\n",
       "      <td>75000000.0</td>\n",
       "    </tr>\n",
       "    <tr>\n",
       "      <th>3</th>\n",
       "      <td>370000.0</td>\n",
       "      <td>87000000.0</td>\n",
       "    </tr>\n",
       "    <tr>\n",
       "      <th>4</th>\n",
       "      <td>270000.0</td>\n",
       "      <td>90000000.0</td>\n",
       "    </tr>\n",
       "    <tr>\n",
       "      <th>...</th>\n",
       "      <td>...</td>\n",
       "      <td>...</td>\n",
       "    </tr>\n",
       "    <tr>\n",
       "      <th>18974</th>\n",
       "      <td>1000.0</td>\n",
       "      <td>35000.0</td>\n",
       "    </tr>\n",
       "    <tr>\n",
       "      <th>18975</th>\n",
       "      <td>NaN</td>\n",
       "      <td>60000.0</td>\n",
       "    </tr>\n",
       "    <tr>\n",
       "      <th>18976</th>\n",
       "      <td>1000.0</td>\n",
       "      <td>40000.0</td>\n",
       "    </tr>\n",
       "    <tr>\n",
       "      <th>18977</th>\n",
       "      <td>NaN</td>\n",
       "      <td>60000.0</td>\n",
       "    </tr>\n",
       "    <tr>\n",
       "      <th>18978</th>\n",
       "      <td>NaN</td>\n",
       "      <td>60000.0</td>\n",
       "    </tr>\n",
       "  </tbody>\n",
       "</table>\n",
       "<p>18979 rows × 2 columns</p>\n",
       "</div>"
      ],
      "text/plain": [
       "           Wage       Value\n",
       "0      560000.0  67500000.0\n",
       "1      220000.0  46000000.0\n",
       "2      125000.0  75000000.0\n",
       "3      370000.0  87000000.0\n",
       "4      270000.0  90000000.0\n",
       "...         ...         ...\n",
       "18974    1000.0     35000.0\n",
       "18975       NaN     60000.0\n",
       "18976    1000.0     40000.0\n",
       "18977       NaN     60000.0\n",
       "18978       NaN     60000.0\n",
       "\n",
       "[18979 rows x 2 columns]"
      ]
     },
     "execution_count": 12,
     "metadata": {},
     "output_type": "execute_result"
    }
   ],
   "source": [
    "#This just shows the new 'Wage' and 'Value' columns\n",
    "fifa_df[['Wage', 'Value']] "
   ]
  },
  {
   "cell_type": "code",
   "execution_count": 13,
   "id": "ad1844d6",
   "metadata": {
    "execution": {
     "iopub.execute_input": "2024-05-05T17:09:24.492243Z",
     "iopub.status.busy": "2024-05-05T17:09:24.491481Z",
     "iopub.status.idle": "2024-05-05T17:09:24.834422Z",
     "shell.execute_reply": "2024-05-05T17:09:24.833450Z"
    },
    "papermill": {
     "duration": 0.350164,
     "end_time": "2024-05-05T17:09:24.836447",
     "exception": false,
     "start_time": "2024-05-05T17:09:24.486283",
     "status": "completed"
    },
    "tags": []
   },
   "outputs": [
    {
     "data": {
      "text/plain": [
       "<Axes: xlabel='Value', ylabel='Wage'>"
      ]
     },
     "execution_count": 13,
     "metadata": {},
     "output_type": "execute_result"
    },
    {
     "data": {
      "image/png": "[encoded data removed]",
      "text/plain": [
       "<Figure size 640x480 with 1 Axes>"
      ]
     },
     "metadata": {},
     "output_type": "display_data"
    }
   ],
   "source": [
    "#Here I created a scatter plot where the X values are the value of the player, and the Y values are the wage in 1000's Euros\n",
    "sns.scatterplot(x=fifa_df['Value'], y=fifa_df['Wage'])"
   ]
  },
  {
   "cell_type": "code",
   "execution_count": 14,
   "id": "02e6108c",
   "metadata": {
    "execution": {
     "iopub.execute_input": "2024-05-05T17:09:24.848314Z",
     "iopub.status.busy": "2024-05-05T17:09:24.847505Z",
     "iopub.status.idle": "2024-05-05T17:09:25.961478Z",
     "shell.execute_reply": "2024-05-05T17:09:25.960431Z"
    },
    "papermill": {
     "duration": 1.122085,
     "end_time": "2024-05-05T17:09:25.963626",
     "exception": false,
     "start_time": "2024-05-05T17:09:24.841541",
     "status": "completed"
    },
    "tags": []
   },
   "outputs": [
    {
     "data": {
      "text/plain": [
       "<Axes: xlabel='Value', ylabel='Wage'>"
      ]
     },
     "execution_count": 14,
     "metadata": {},
     "output_type": "execute_result"
    },
    {
     "data": {
      "image/png": "[encoded data removed]",
      "text/plain": [
       "<Figure size 640x480 with 1 Axes>"
      ]
     },
     "metadata": {},
     "output_type": "display_data"
    }
   ],
   "source": [
    "#This is the same plot as the one above, but this is a linear regression model used with seaborn. \n",
    "sns.regplot(x=fifa_df['Value'], y=fifa_df['Wage'])"
   ]
  },
  {
   "cell_type": "code",
   "execution_count": null,
   "id": "810d13b0",
   "metadata": {
    "papermill": {
     "duration": 0.005828,
     "end_time": "2024-05-05T17:09:25.975648",
     "exception": false,
     "start_time": "2024-05-05T17:09:25.969820",
     "status": "completed"
    },
    "tags": []
   },
   "outputs": [],
   "source": []
  }
 ],
 "metadata": {
  "kaggle": {
   "accelerator": "none",
   "dataSources": [
    {
     "datasetId": 923113,
     "sourceId": 1579237,
     "sourceType": "datasetVersion"
    }
   ],
   "dockerImageVersionId": 30664,
   "isGpuEnabled": false,
   "isInternetEnabled": true,
   "language": "python",
   "sourceType": "notebook"
  },
  "kernelspec": {
   "display_name": "Python 3",
   "language": "python",
   "name": "python3"
  },
  "language_info": {
   "codemirror_mode": {
    "name": "ipython",
    "version": 3
   },
   "file_extension": ".py",
   "mimetype": "text/x-python",
   "name": "python",
   "nbconvert_exporter": "python",
   "pygments_lexer": "ipython3",
   "version": "3.10.13"
  },
  "papermill": {
   "default_parameters": {},
   "duration": 7.887064,
   "end_time": "2024-05-05T17:09:26.502866",
   "environment_variables": {},
   "exception": null,
   "input_path": "__notebook__.ipynb",
   "output_path": "__notebook__.ipynb",
   "parameters": {},
   "start_time": "2024-05-05T17:09:18.615802",
   "version": "2.5.0"
  }
 },
 "nbformat": 4,
 "nbformat_minor": 5
}
