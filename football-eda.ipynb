{
 "cells": [
  {
   "cell_type": "code",
   "execution_count": 1,
   "id": "0cd20c7e",
   "metadata": {
    "_cell_guid": "b1076dfc-b9ad-4769-8c92-a6c4dae69d19",
    "_uuid": "8f2839f25d086af736a60e9eeb907d3b93b6e0e5",
    "execution": {
     "iopub.execute_input": "2024-05-05T17:02:56.574838Z",
     "iopub.status.busy": "2024-05-05T17:02:56.573896Z",
     "iopub.status.idle": "2024-05-05T17:02:59.032044Z",
     "shell.execute_reply": "2024-05-05T17:02:59.030860Z"
    },
    "papermill": {
     "duration": 2.467888,
     "end_time": "2024-05-05T17:02:59.034556",
     "exception": false,
     "start_time": "2024-05-05T17:02:56.566668",
     "status": "completed"
    },
    "tags": []
   },
   "outputs": [
    {
     "name": "stdout",
     "output_type": "stream",
     "text": [
      "/kaggle/input/fifa-21-messy-raw-dataset-for-cleaning-exploring/fifa21 raw data v2.csv\n",
      "/kaggle/input/fifa-21-messy-raw-dataset-for-cleaning-exploring/fifa21_raw_data.csv\n"
     ]
    }
   ],
   "source": [
    "#Here I imported libraries needed to do basic EDA\n",
    "import numpy as np \n",
    "import pandas as pd \n",
    "pd.set_option('display.max_rows', 120)\n",
    "\n",
    "#Here I am importing Python libraries for data visualization\n",
    "pd.plotting.register_matplotlib_converters()\n",
    "import matplotlib.pyplot as plt\n",
    "%matplotlib inline\n",
    "import seaborn as sns\n",
    "\n",
    "#This is where we are reading in the outside csv file\n",
    "fifa_df = pd.read_csv('../input/fifa-21-messy-raw-dataset-for-cleaning-exploring/fifa21_raw_data.csv', low_memory=False)\n",
    "\n",
    "\n",
    "import os\n",
    "for dirname, _, filenames in os.walk('/kaggle/input'):\n",
    "    for filename in filenames:\n",
    "        print(os.path.join(dirname, filename))"
   ]
  },
  {
   "cell_type": "code",
   "execution_count": 2,
   "id": "3e3c1765",
   "metadata": {
    "execution": {
     "iopub.execute_input": "2024-05-05T17:02:59.046738Z",
     "iopub.status.busy": "2024-05-05T17:02:59.046408Z",
     "iopub.status.idle": "2024-05-05T17:02:59.075804Z",
     "shell.execute_reply": "2024-05-05T17:02:59.075015Z"
    },
    "papermill": {
     "duration": 0.037935,
     "end_time": "2024-05-05T17:02:59.078062",
     "exception": false,
     "start_time": "2024-05-05T17:02:59.040127",
     "status": "completed"
    },
    "tags": []
   },
   "outputs": [],
   "source": [
    "#The idea behind this was to get rid of data that wasn't needed at first to clean up the space. I didn't think we needed the URL for the player and photo, this can be readded later if needed. \n",
    "#To get rid of the data not needed I used the .drop command\n",
    "fifa_df = fifa_df.drop(columns=['photoUrl'])\n",
    "fifa_df = fifa_df.drop(columns=['playerUrl'])\n",
    "#Here I wanted to rename the columns, used the .rename command\n",
    "fifa_df = fifa_df.rename(columns={'Weight': 'Weight: lbs'})"
   ]
  },
  {
   "cell_type": "code",
   "execution_count": 3,
   "id": "ccd43c7e",
   "metadata": {
    "execution": {
     "iopub.execute_input": "2024-05-05T17:02:59.090275Z",
     "iopub.status.busy": "2024-05-05T17:02:59.089511Z",
     "iopub.status.idle": "2024-05-05T17:02:59.116108Z",
     "shell.execute_reply": "2024-05-05T17:02:59.115323Z"
    },
    "papermill": {
     "duration": 0.035192,
     "end_time": "2024-05-05T17:02:59.118542",
     "exception": false,
     "start_time": "2024-05-05T17:02:59.083350",
     "status": "completed"
    },
    "tags": []
   },
   "outputs": [],
   "source": [
    "fifa_df['Joined'] = pd.to_datetime(fifa_df['Joined'])"
   ]
  },
  {
   "cell_type": "code",
   "execution_count": 4,
   "id": "e0b63bd9",
   "metadata": {
    "execution": {
     "iopub.execute_input": "2024-05-05T17:02:59.130322Z",
     "iopub.status.busy": "2024-05-05T17:02:59.129964Z",
     "iopub.status.idle": "2024-05-05T17:02:59.139018Z",
     "shell.execute_reply": "2024-05-05T17:02:59.138273Z"
    },
    "papermill": {
     "duration": 0.017254,
     "end_time": "2024-05-05T17:02:59.141093",
     "exception": false,
     "start_time": "2024-05-05T17:02:59.123839",
     "status": "completed"
    },
    "tags": []
   },
   "outputs": [],
   "source": [
    "#Here I wanted to change the data format to have seperate columns for day, month, year\n",
    "fifa_df['day'] = fifa_df['Joined'].dt.day\n",
    "fifa_df['month'] = fifa_df['Joined'].dt.month\n",
    "fifa_df['year'] = fifa_df['Joined'].dt.year"
   ]
  },
  {
   "cell_type": "code",
   "execution_count": 5,
   "id": "a6338448",
   "metadata": {
    "execution": {
     "iopub.execute_input": "2024-05-05T17:02:59.152240Z",
     "iopub.status.busy": "2024-05-05T17:02:59.151907Z",
     "iopub.status.idle": "2024-05-05T17:02:59.186379Z",
     "shell.execute_reply": "2024-05-05T17:02:59.185458Z"
    },
    "papermill": {
     "duration": 0.042711,
     "end_time": "2024-05-05T17:02:59.188570",
     "exception": false,
     "start_time": "2024-05-05T17:02:59.145859",
     "status": "completed"
    },
    "tags": []
   },
   "outputs": [],
   "source": [
    "#The Hits column started a new line, so I replaced it with just a space.\n",
    "fifa_df['Hits'] = fifa_df['Hits'].str.replace('\\n', ' ')\n",
    "#The Team & Contract column started a new line, so I replaced it with just a space.\n",
    "fifa_df['Team & Contract'] = fifa_df['Team & Contract'].str.replace('\\n', ' ')\n",
    "#The SM column ad a star in it, so I replaced it with just a space.\n",
    "fifa_df['SM'] = fifa_df['SM'].str.replace('★', ' ')"
   ]
  },
  {
   "cell_type": "code",
   "execution_count": 6,
   "id": "5dbb76da",
   "metadata": {
    "execution": {
     "iopub.execute_input": "2024-05-05T17:02:59.200177Z",
     "iopub.status.busy": "2024-05-05T17:02:59.199867Z",
     "iopub.status.idle": "2024-05-05T17:02:59.309270Z",
     "shell.execute_reply": "2024-05-05T17:02:59.308455Z"
    },
    "papermill": {
     "duration": 0.11792,
     "end_time": "2024-05-05T17:02:59.311444",
     "exception": false,
     "start_time": "2024-05-05T17:02:59.193524",
     "status": "completed"
    },
    "tags": []
   },
   "outputs": [],
   "source": [
    "#The Team & Contract columns were originally 2 different columns, here I joined them as one.\n",
    "fifa_df[['Team', 'Contract']] = fifa_df['Team & Contract'].str.split(' & ', expand=True)"
   ]
  },
  {
   "cell_type": "code",
   "execution_count": 7,
   "id": "2709a029",
   "metadata": {
    "execution": {
     "iopub.execute_input": "2024-05-05T17:02:59.323332Z",
     "iopub.status.busy": "2024-05-05T17:02:59.323015Z",
     "iopub.status.idle": "2024-05-05T17:02:59.340837Z",
     "shell.execute_reply": "2024-05-05T17:02:59.340038Z"
    },
    "papermill": {
     "duration": 0.026391,
     "end_time": "2024-05-05T17:02:59.343236",
     "exception": false,
     "start_time": "2024-05-05T17:02:59.316845",
     "status": "completed"
    },
    "tags": []
   },
   "outputs": [],
   "source": [
    "fifa_df['Weight: lbs'] = fifa_df['Weight: lbs'].str.replace('lbs', ' ')\n",
    "fifa_df['Weight: lbs']\n",
    "fifa_df['Weight: lbs'] = fifa_df['Weight: lbs'].astype(str).astype(int)"
   ]
  },
  {
   "cell_type": "code",
   "execution_count": 8,
   "id": "999ba30a",
   "metadata": {
    "execution": {
     "iopub.execute_input": "2024-05-05T17:02:59.355443Z",
     "iopub.status.busy": "2024-05-05T17:02:59.355109Z",
     "iopub.status.idle": "2024-05-05T17:02:59.358983Z",
     "shell.execute_reply": "2024-05-05T17:02:59.358093Z"
    },
    "papermill": {
     "duration": 0.012434,
     "end_time": "2024-05-05T17:02:59.361069",
     "exception": false,
     "start_time": "2024-05-05T17:02:59.348635",
     "status": "completed"
    },
    "tags": []
   },
   "outputs": [],
   "source": [
    "#fifa_df['Wage'] = fifa_df['Wage'].str.replace('€', ' ')\n",
    "#fifa_df['Wage'] = fifa_df['Wage'].str.replace('K', ' ')\n",
    "#fifa_df['Wage'] = fifa_df['Wage'].astype(str).astype(int)"
   ]
  },
  {
   "cell_type": "code",
   "execution_count": 9,
   "id": "cfab7c43",
   "metadata": {
    "execution": {
     "iopub.execute_input": "2024-05-05T17:02:59.372755Z",
     "iopub.status.busy": "2024-05-05T17:02:59.372466Z",
     "iopub.status.idle": "2024-05-05T17:02:59.376513Z",
     "shell.execute_reply": "2024-05-05T17:02:59.375617Z"
    },
    "papermill": {
     "duration": 0.012227,
     "end_time": "2024-05-05T17:02:59.378576",
     "exception": false,
     "start_time": "2024-05-05T17:02:59.366349",
     "status": "completed"
    },
    "tags": []
   },
   "outputs": [],
   "source": [
    "#fifa_df['Value'] = fifa_df['Value'].str.replace('€', ' ')\n",
    "#fifa_df['Value'] = fifa_df['Value'].str.replace('M', ' ')\n",
    "#fifa_df['Value'] = fifa_df['Value'].str.replace('K', ' ')\n",
    "#fifa_df['Value'] = fifa_df['Value'].astype(float).astype(int)"
   ]
  },
  {
   "cell_type": "code",
   "execution_count": 10,
   "id": "32cb6589",
   "metadata": {
    "execution": {
     "iopub.execute_input": "2024-05-05T17:02:59.390304Z",
     "iopub.status.busy": "2024-05-05T17:02:59.389984Z",
     "iopub.status.idle": "2024-05-05T17:02:59.396270Z",
     "shell.execute_reply": "2024-05-05T17:02:59.395302Z"
    },
    "papermill": {
     "duration": 0.014647,
     "end_time": "2024-05-05T17:02:59.398365",
     "exception": false,
     "start_time": "2024-05-05T17:02:59.383718",
     "status": "completed"
    },
    "tags": []
   },
   "outputs": [],
   "source": [
    "#This was personally the hardest part for me. Trying to figure out to convert the M's and K's to Euro's. As you can see the above two code cells are what I tried doing, but ultimately did not work.\n",
    "\n",
    "#This code block is what I ended up googling and coming up with and it worked with my dataset. \n",
    "\n",
    "#The reason I kept my code and explained it this way, this shows my thought process of running into a road block and having to find a way to keep going rather than giving up.\n",
    "\n",
    "def value_setting(value): \n",
    "    if isinstance(value, str):\n",
    "        if value.find(\"M\") != -1:\n",
    "            return int(float(value.replace(\"M\", \"\").replace('€', '')) * 1000000)\n",
    "        elif value.find(\"K\") != -1: \n",
    "            return int(value.replace(\"K\", \"\").replace(\"€\", \"\")) * 1000 \n",
    "    else:\n",
    "        return int(value)"
   ]
  },
  {
   "cell_type": "code",
   "execution_count": 11,
   "id": "4ee1e9b9",
   "metadata": {
    "execution": {
     "iopub.execute_input": "2024-05-05T17:02:59.410406Z",
     "iopub.status.busy": "2024-05-05T17:02:59.410110Z",
     "iopub.status.idle": "2024-05-05T17:02:59.479332Z",
     "shell.execute_reply": "2024-05-05T17:02:59.478460Z"
    },
    "papermill": {
     "duration": 0.078116,
     "end_time": "2024-05-05T17:02:59.481711",
     "exception": false,
     "start_time": "2024-05-05T17:02:59.403595",
     "status": "completed"
    },
    "tags": []
   },
   "outputs": [],
   "source": [
    "#Created a 'Value' and 'Wage' column that helped replace the M's and K's to the Euro sign. \n",
    "fifa_df['Value'] = fifa_df['Value'].apply(value_setting)\n",
    "fifa_df['Wage'] = fifa_df['Wage'].apply(value_setting)"
   ]
  },
  {
   "cell_type": "code",
   "execution_count": 12,
   "id": "689e81aa",
   "metadata": {
    "execution": {
     "iopub.execute_input": "2024-05-05T17:02:59.493328Z",
     "iopub.status.busy": "2024-05-05T17:02:59.493020Z",
     "iopub.status.idle": "2024-05-05T17:02:59.514428Z",
     "shell.execute_reply": "2024-05-05T17:02:59.513677Z"
    },
    "papermill": {
     "duration": 0.029552,
     "end_time": "2024-05-05T17:02:59.516588",
     "exception": false,
     "start_time": "2024-05-05T17:02:59.487036",
     "status": "completed"
    },
    "tags": []
   },
   "outputs": [
    {
     "data": {
      "text/html": [
       "<div>\n",
       "<style scoped>\n",
       "    .dataframe tbody tr th:only-of-type {\n",
       "        vertical-align: middle;\n",
       "    }\n",
       "\n",
       "    .dataframe tbody tr th {\n",
       "        vertical-align: top;\n",
       "    }\n",
       "\n",
       "    .dataframe thead th {\n",
       "        text-align: right;\n",
       "    }\n",
       "</style>\n",
       "<table border=\"1\" class=\"dataframe\">\n",
       "  <thead>\n",
       "    <tr style=\"text-align: right;\">\n",
       "      <th></th>\n",
       "      <th>Wage</th>\n",
       "      <th>Value</th>\n",
       "    </tr>\n",
       "  </thead>\n",
       "  <tbody>\n",
       "    <tr>\n",
       "      <th>0</th>\n",
       "      <td>560000.0</td>\n",
       "      <td>67500000.0</td>\n",
       "    </tr>\n",
       "    <tr>\n",
       "      <th>1</th>\n",
       "      <td>220000.0</td>\n",
       "      <td>46000000.0</td>\n",
       "    </tr>\n",
       "    <tr>\n",
       "      <th>2</th>\n",
       "      <td>125000.0</td>\n",
       "      <td>75000000.0</td>\n",
       "    </tr>\n",
       "    <tr>\n",
       "      <th>3</th>\n",
       "      <td>370000.0</td>\n",
       "      <td>87000000.0</td>\n",
       "    </tr>\n",
       "    <tr>\n",
       "      <th>4</th>\n",
       "      <td>270000.0</td>\n",
       "      <td>90000000.0</td>\n",
       "    </tr>\n",
       "    <tr>\n",
       "      <th>...</th>\n",
       "      <td>...</td>\n",
       "      <td>...</td>\n",
       "    </tr>\n",
       "    <tr>\n",
       "      <th>18974</th>\n",
       "      <td>1000.0</td>\n",
       "      <td>35000.0</td>\n",
       "    </tr>\n",
       "    <tr>\n",
       "      <th>18975</th>\n",
       "      <td>NaN</td>\n",
       "      <td>60000.0</td>\n",
       "    </tr>\n",
       "    <tr>\n",
       "      <th>18976</th>\n",
       "      <td>1000.0</td>\n",
       "      <td>40000.0</td>\n",
       "    </tr>\n",
       "    <tr>\n",
       "      <th>18977</th>\n",
       "      <td>NaN</td>\n",
       "      <td>60000.0</td>\n",
       "    </tr>\n",
       "    <tr>\n",
       "      <th>18978</th>\n",
       "      <td>NaN</td>\n",
       "      <td>60000.0</td>\n",
       "    </tr>\n",
       "  </tbody>\n",
       "</table>\n",
       "<p>18979 rows × 2 columns</p>\n",
       "</div>"
      ],
      "text/plain": [
       "           Wage       Value\n",
       "0      560000.0  67500000.0\n",
       "1      220000.0  46000000.0\n",
       "2      125000.0  75000000.0\n",
       "3      370000.0  87000000.0\n",
       "4      270000.0  90000000.0\n",
       "...         ...         ...\n",
       "18974    1000.0     35000.0\n",
       "18975       NaN     60000.0\n",
       "18976    1000.0     40000.0\n",
       "18977       NaN     60000.0\n",
       "18978       NaN     60000.0\n",
       "\n",
       "[18979 rows x 2 columns]"
      ]
     },
     "execution_count": 12,
     "metadata": {},
     "output_type": "execute_result"
    }
   ],
   "source": [
    "#This just shows the new 'Wage' and 'Value' columns\n",
    "fifa_df[['Wage', 'Value']] "
   ]
  },
  {
   "cell_type": "code",
   "execution_count": 13,
   "id": "980d1b05",
   "metadata": {
    "execution": {
     "iopub.execute_input": "2024-05-05T17:02:59.529192Z",
     "iopub.status.busy": "2024-05-05T17:02:59.528850Z",
     "iopub.status.idle": "2024-05-05T17:02:59.883901Z",
     "shell.execute_reply": "2024-05-05T17:02:59.883028Z"
    },
    "papermill": {
     "duration": 0.364549,
     "end_time": "2024-05-05T17:02:59.886523",
     "exception": false,
     "start_time": "2024-05-05T17:02:59.521974",
     "status": "completed"
    },
    "tags": []
   },
   "outputs": [
    {
     "data": {
      "text/plain": [
       "<Axes: xlabel='Value', ylabel='Wage'>"
      ]
     },
     "execution_count": 13,
     "metadata": {},
     "output_type": "execute_result"
    },
    {
     "data": {
      "image/png": "[encoded data removed]",
      "text/plain": [
       "<Figure size 640x480 with 1 Axes>"
      ]
     },
     "metadata": {},
     "output_type": "display_data"
    }
   ],
   "source": [
    "#Here I created a scatter plot where the X values are the value of the player, and the Y values are the wage in 1000's Euros\n",
    "sns.scatterplot(x=fifa_df['Value'], y=fifa_df['Wage'])"
   ]
  },
  {
   "cell_type": "code",
   "execution_count": 14,
   "id": "80c3a511",
   "metadata": {
    "execution": {
     "iopub.execute_input": "2024-05-05T17:02:59.900701Z",
     "iopub.status.busy": "2024-05-05T17:02:59.899874Z",
     "iopub.status.idle": "2024-05-05T17:03:01.081163Z",
     "shell.execute_reply": "2024-05-05T17:03:01.080273Z"
    },
    "papermill": {
     "duration": 1.190835,
     "end_time": "2024-05-05T17:03:01.083312",
     "exception": false,
     "start_time": "2024-05-05T17:02:59.892477",
     "status": "completed"
    },
    "tags": []
   },
   "outputs": [
    {
     "data": {
      "text/plain": [
       "<Axes: xlabel='Value', ylabel='Wage'>"
      ]
     },
     "execution_count": 14,
     "metadata": {},
     "output_type": "execute_result"
    },
    {
     "data": {
      "image/png": "[encoded data removed]",
      "text/plain": [
       "<Figure size 640x480 with 1 Axes>"
      ]
     },
     "metadata": {},
     "output_type": "display_data"
    }
   ],
   "source": [
    "#This is the same plot as the one above, but this is a linear regression model used with seaborn. \n",
    "sns.regplot(x=fifa_df['Value'], y=fifa_df['Wage'])"
   ]
  },
  {
   "cell_type": "code",
   "execution_count": null,
   "id": "3959afd6",
   "metadata": {
    "papermill": {
     "duration": 0.006936,
     "end_time": "2024-05-05T17:03:01.097578",
     "exception": false,
     "start_time": "2024-05-05T17:03:01.090642",
     "status": "completed"
    },
    "tags": []
   },
   "outputs": [],
   "source": []
  }
 ],
 "metadata": {
  "kaggle": {
   "accelerator": "none",
   "dataSources": [
    {
     "datasetId": 923113,
     "sourceId": 1579237,
     "sourceType": "datasetVersion"
    }
   ],
   "dockerImageVersionId": 30664,
   "isGpuEnabled": false,
   "isInternetEnabled": true,
   "language": "python",
   "sourceType": "notebook"
  },
  "kernelspec": {
   "display_name": "Python 3",
   "language": "python",
   "name": "python3"
  },
  "language_info": {
   "codemirror_mode": {
    "name": "ipython",
    "version": 3
   },
   "file_extension": ".py",
   "mimetype": "text/x-python",
   "name": "python",
   "nbconvert_exporter": "python",
   "pygments_lexer": "ipython3",
   "version": "3.10.13"
  },
  "papermill": {
   "default_parameters": {},
   "duration": 7.872976,
   "end_time": "2024-05-05T17:03:01.625890",
   "environment_variables": {},
   "exception": null,
   "input_path": "__notebook__.ipynb",
   "output_path": "__notebook__.ipynb",
   "parameters": {},
   "start_time": "2024-05-05T17:02:53.752914",
   "version": "2.5.0"
  }
 },
 "nbformat": 4,
 "nbformat_minor": 5
}
