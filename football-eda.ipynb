{
 "cells": [
  {
   "cell_type": "code",
   "execution_count": 1,
   "id": "d97ce889",
   "metadata": {
    "_cell_guid": "b1076dfc-b9ad-4769-8c92-a6c4dae69d19",
    "_uuid": "8f2839f25d086af736a60e9eeb907d3b93b6e0e5",
    "execution": {
     "iopub.execute_input": "2024-05-05T16:15:47.119548Z",
     "iopub.status.busy": "2024-05-05T16:15:47.118951Z",
     "iopub.status.idle": "2024-05-05T16:15:51.183861Z",
     "shell.execute_reply": "2024-05-05T16:15:51.182387Z"
    },
    "papermill": {
     "duration": 4.076651,
     "end_time": "2024-05-05T16:15:51.186823",
     "exception": false,
     "start_time": "2024-05-05T16:15:47.110172",
     "status": "completed"
    },
    "tags": []
   },
   "outputs": [
    {
     "name": "stdout",
     "output_type": "stream",
     "text": [
      "/kaggle/input/fifa-21-messy-raw-dataset-for-cleaning-exploring/fifa21 raw data v2.csv\n",
      "/kaggle/input/fifa-21-messy-raw-dataset-for-cleaning-exploring/fifa21_raw_data.csv\n"
     ]
    }
   ],
   "source": [
    "import numpy as np \n",
    "import pandas as pd \n",
    "pd.set_option('display.max_rows', 120)\n",
    "\n",
    "pd.plotting.register_matplotlib_converters()\n",
    "import matplotlib.pyplot as plt\n",
    "%matplotlib inline\n",
    "import seaborn as sns\n",
    "\n",
    "fifa_df = pd.read_csv('../input/fifa-21-messy-raw-dataset-for-cleaning-exploring/fifa21_raw_data.csv', low_memory=False)\n",
    "\n",
    "\n",
    "import os\n",
    "for dirname, _, filenames in os.walk('/kaggle/input'):\n",
    "    for filename in filenames:\n",
    "        print(os.path.join(dirname, filename))"
   ]
  },
  {
   "cell_type": "code",
   "execution_count": 2,
   "id": "93780222",
   "metadata": {
    "execution": {
     "iopub.execute_input": "2024-05-05T16:15:51.200794Z",
     "iopub.status.busy": "2024-05-05T16:15:51.200327Z",
     "iopub.status.idle": "2024-05-05T16:15:51.238276Z",
     "shell.execute_reply": "2024-05-05T16:15:51.237075Z"
    },
    "papermill": {
     "duration": 0.047845,
     "end_time": "2024-05-05T16:15:51.240985",
     "exception": false,
     "start_time": "2024-05-05T16:15:51.193140",
     "status": "completed"
    },
    "tags": []
   },
   "outputs": [],
   "source": [
    "fifa_df = fifa_df.drop(columns=['photoUrl'])\n",
    "fifa_df = fifa_df.drop(columns=['playerUrl'])\n",
    "fifa_df = fifa_df.rename(columns={'Weight': 'Weight: lbs'})"
   ]
  },
  {
   "cell_type": "code",
   "execution_count": 3,
   "id": "a81a4404",
   "metadata": {
    "execution": {
     "iopub.execute_input": "2024-05-05T16:15:51.256610Z",
     "iopub.status.busy": "2024-05-05T16:15:51.255396Z",
     "iopub.status.idle": "2024-05-05T16:15:51.292459Z",
     "shell.execute_reply": "2024-05-05T16:15:51.290723Z"
    },
    "papermill": {
     "duration": 0.048305,
     "end_time": "2024-05-05T16:15:51.295329",
     "exception": false,
     "start_time": "2024-05-05T16:15:51.247024",
     "status": "completed"
    },
    "tags": []
   },
   "outputs": [],
   "source": [
    "fifa_df['Joined'] = pd.to_datetime(fifa_df['Joined'])"
   ]
  },
  {
   "cell_type": "code",
   "execution_count": 4,
   "id": "1807eba2",
   "metadata": {
    "execution": {
     "iopub.execute_input": "2024-05-05T16:15:51.311693Z",
     "iopub.status.busy": "2024-05-05T16:15:51.310385Z",
     "iopub.status.idle": "2024-05-05T16:15:51.325706Z",
     "shell.execute_reply": "2024-05-05T16:15:51.324115Z"
    },
    "papermill": {
     "duration": 0.026474,
     "end_time": "2024-05-05T16:15:51.328639",
     "exception": false,
     "start_time": "2024-05-05T16:15:51.302165",
     "status": "completed"
    },
    "tags": []
   },
   "outputs": [],
   "source": [
    "fifa_df['day'] = fifa_df['Joined'].dt.day\n",
    "fifa_df['month'] = fifa_df['Joined'].dt.month\n",
    "fifa_df['year'] = fifa_df['Joined'].dt.year"
   ]
  },
  {
   "cell_type": "code",
   "execution_count": 5,
   "id": "dc2ca9b5",
   "metadata": {
    "execution": {
     "iopub.execute_input": "2024-05-05T16:15:51.343221Z",
     "iopub.status.busy": "2024-05-05T16:15:51.342773Z",
     "iopub.status.idle": "2024-05-05T16:15:51.391238Z",
     "shell.execute_reply": "2024-05-05T16:15:51.389370Z"
    },
    "papermill": {
     "duration": 0.059447,
     "end_time": "2024-05-05T16:15:51.394467",
     "exception": false,
     "start_time": "2024-05-05T16:15:51.335020",
     "status": "completed"
    },
    "tags": []
   },
   "outputs": [],
   "source": [
    "fifa_df['Hits'] = fifa_df['Hits'].str.replace('\\n', ' ')\n",
    "fifa_df['Team & Contract'] = fifa_df['Team & Contract'].str.replace('\\n', ' ')\n",
    "fifa_df['SM'] = fifa_df['SM'].str.replace('★', ' ')"
   ]
  },
  {
   "cell_type": "code",
   "execution_count": 6,
   "id": "b7771c85",
   "metadata": {
    "execution": {
     "iopub.execute_input": "2024-05-05T16:15:51.410770Z",
     "iopub.status.busy": "2024-05-05T16:15:51.409305Z",
     "iopub.status.idle": "2024-05-05T16:15:51.538533Z",
     "shell.execute_reply": "2024-05-05T16:15:51.537569Z"
    },
    "papermill": {
     "duration": 0.139953,
     "end_time": "2024-05-05T16:15:51.541298",
     "exception": false,
     "start_time": "2024-05-05T16:15:51.401345",
     "status": "completed"
    },
    "tags": []
   },
   "outputs": [],
   "source": [
    "fifa_df[['Team', 'Contract']] = fifa_df['Team & Contract'].str.split(' & ', expand=True)"
   ]
  },
  {
   "cell_type": "code",
   "execution_count": 7,
   "id": "188e380f",
   "metadata": {
    "execution": {
     "iopub.execute_input": "2024-05-05T16:15:51.555602Z",
     "iopub.status.busy": "2024-05-05T16:15:51.555178Z",
     "iopub.status.idle": "2024-05-05T16:15:51.577577Z",
     "shell.execute_reply": "2024-05-05T16:15:51.576301Z"
    },
    "papermill": {
     "duration": 0.032822,
     "end_time": "2024-05-05T16:15:51.580649",
     "exception": false,
     "start_time": "2024-05-05T16:15:51.547827",
     "status": "completed"
    },
    "tags": []
   },
   "outputs": [],
   "source": [
    "fifa_df['Weight: lbs'] = fifa_df['Weight: lbs'].str.replace('lbs', ' ')\n",
    "fifa_df['Weight: lbs']\n",
    "fifa_df['Weight: lbs'] = fifa_df['Weight: lbs'].astype(str).astype(int)"
   ]
  },
  {
   "cell_type": "code",
   "execution_count": 8,
   "id": "9cdc4280",
   "metadata": {
    "execution": {
     "iopub.execute_input": "2024-05-05T16:15:51.595348Z",
     "iopub.status.busy": "2024-05-05T16:15:51.594692Z",
     "iopub.status.idle": "2024-05-05T16:15:51.600880Z",
     "shell.execute_reply": "2024-05-05T16:15:51.598499Z"
    },
    "papermill": {
     "duration": 0.017256,
     "end_time": "2024-05-05T16:15:51.604076",
     "exception": false,
     "start_time": "2024-05-05T16:15:51.586820",
     "status": "completed"
    },
    "tags": []
   },
   "outputs": [],
   "source": [
    "#fifa_df['Wage'] = fifa_df['Wage'].str.replace('€', ' ')\n",
    "#fifa_df['Wage'] = fifa_df['Wage'].str.replace('K', ' ')\n",
    "#fifa_df['Wage'] = fifa_df['Wage'].astype(str).astype(int)"
   ]
  },
  {
   "cell_type": "code",
   "execution_count": 9,
   "id": "24cad10a",
   "metadata": {
    "execution": {
     "iopub.execute_input": "2024-05-05T16:15:51.619186Z",
     "iopub.status.busy": "2024-05-05T16:15:51.618339Z",
     "iopub.status.idle": "2024-05-05T16:15:51.623758Z",
     "shell.execute_reply": "2024-05-05T16:15:51.622781Z"
    },
    "papermill": {
     "duration": 0.015523,
     "end_time": "2024-05-05T16:15:51.626216",
     "exception": false,
     "start_time": "2024-05-05T16:15:51.610693",
     "status": "completed"
    },
    "tags": []
   },
   "outputs": [],
   "source": [
    "#fifa_df['Value'] = fifa_df['Value'].str.replace('€', ' ')\n",
    "#fifa_df['Value'] = fifa_df['Value'].str.replace('M', ' ')\n",
    "#fifa_df['Value'] = fifa_df['Value'].str.replace('K', ' ')\n",
    "#fifa_df['Value'] = fifa_df['Value'].astype(float).astype(int)"
   ]
  },
  {
   "cell_type": "code",
   "execution_count": 10,
   "id": "f1c26e36",
   "metadata": {
    "execution": {
     "iopub.execute_input": "2024-05-05T16:15:51.641690Z",
     "iopub.status.busy": "2024-05-05T16:15:51.640964Z",
     "iopub.status.idle": "2024-05-05T16:15:51.648729Z",
     "shell.execute_reply": "2024-05-05T16:15:51.647527Z"
    },
    "papermill": {
     "duration": 0.018669,
     "end_time": "2024-05-05T16:15:51.651712",
     "exception": false,
     "start_time": "2024-05-05T16:15:51.633043",
     "status": "completed"
    },
    "tags": []
   },
   "outputs": [],
   "source": [
    "def value_setting(value): \n",
    "    if isinstance(value, str):\n",
    "        if value.find(\"M\") != -1:\n",
    "            return int(float(value.replace(\"M\", \"\").replace('€', '')) * 1000000)\n",
    "        elif value.find(\"K\") != -1: \n",
    "            return int(value.replace(\"K\", \"\").replace(\"€\", \"\")) * 1000 \n",
    "    else:\n",
    "        return int(value)"
   ]
  },
  {
   "cell_type": "code",
   "execution_count": 11,
   "id": "d0ae1bdc",
   "metadata": {
    "execution": {
     "iopub.execute_input": "2024-05-05T16:15:51.666798Z",
     "iopub.status.busy": "2024-05-05T16:15:51.666036Z",
     "iopub.status.idle": "2024-05-05T16:15:51.784323Z",
     "shell.execute_reply": "2024-05-05T16:15:51.783281Z"
    },
    "papermill": {
     "duration": 0.128877,
     "end_time": "2024-05-05T16:15:51.786939",
     "exception": false,
     "start_time": "2024-05-05T16:15:51.658062",
     "status": "completed"
    },
    "tags": []
   },
   "outputs": [],
   "source": [
    "fifa_df['Value'] = fifa_df['Value'].apply(value_setting)\n",
    "fifa_df['Wage'] = fifa_df['Wage'].apply(value_setting)\n",
    "fifa_df['Release Clause'] = fifa_df['Release Clause'].apply(value_setting)"
   ]
  },
  {
   "cell_type": "code",
   "execution_count": 12,
   "id": "c044f5f3",
   "metadata": {
    "execution": {
     "iopub.execute_input": "2024-05-05T16:15:51.801636Z",
     "iopub.status.busy": "2024-05-05T16:15:51.801198Z",
     "iopub.status.idle": "2024-05-05T16:15:51.830539Z",
     "shell.execute_reply": "2024-05-05T16:15:51.829583Z"
    },
    "papermill": {
     "duration": 0.039899,
     "end_time": "2024-05-05T16:15:51.833063",
     "exception": false,
     "start_time": "2024-05-05T16:15:51.793164",
     "status": "completed"
    },
    "tags": []
   },
   "outputs": [
    {
     "data": {
      "text/html": [
       "<div>\n",
       "<style scoped>\n",
       "    .dataframe tbody tr th:only-of-type {\n",
       "        vertical-align: middle;\n",
       "    }\n",
       "\n",
       "    .dataframe tbody tr th {\n",
       "        vertical-align: top;\n",
       "    }\n",
       "\n",
       "    .dataframe thead th {\n",
       "        text-align: right;\n",
       "    }\n",
       "</style>\n",
       "<table border=\"1\" class=\"dataframe\">\n",
       "  <thead>\n",
       "    <tr style=\"text-align: right;\">\n",
       "      <th></th>\n",
       "      <th>Wage</th>\n",
       "      <th>Value</th>\n",
       "      <th>Release Clause</th>\n",
       "    </tr>\n",
       "  </thead>\n",
       "  <tbody>\n",
       "    <tr>\n",
       "      <th>0</th>\n",
       "      <td>560000.0</td>\n",
       "      <td>67500000.0</td>\n",
       "      <td>138400000.0</td>\n",
       "    </tr>\n",
       "    <tr>\n",
       "      <th>1</th>\n",
       "      <td>220000.0</td>\n",
       "      <td>46000000.0</td>\n",
       "      <td>75900000.0</td>\n",
       "    </tr>\n",
       "    <tr>\n",
       "      <th>2</th>\n",
       "      <td>125000.0</td>\n",
       "      <td>75000000.0</td>\n",
       "      <td>159400000.0</td>\n",
       "    </tr>\n",
       "    <tr>\n",
       "      <th>3</th>\n",
       "      <td>370000.0</td>\n",
       "      <td>87000000.0</td>\n",
       "      <td>161000000.0</td>\n",
       "    </tr>\n",
       "    <tr>\n",
       "      <th>4</th>\n",
       "      <td>270000.0</td>\n",
       "      <td>90000000.0</td>\n",
       "      <td>166500000.0</td>\n",
       "    </tr>\n",
       "    <tr>\n",
       "      <th>...</th>\n",
       "      <td>...</td>\n",
       "      <td>...</td>\n",
       "      <td>...</td>\n",
       "    </tr>\n",
       "    <tr>\n",
       "      <th>18974</th>\n",
       "      <td>1000.0</td>\n",
       "      <td>35000.0</td>\n",
       "      <td>57000.0</td>\n",
       "    </tr>\n",
       "    <tr>\n",
       "      <th>18975</th>\n",
       "      <td>NaN</td>\n",
       "      <td>60000.0</td>\n",
       "      <td>165000.0</td>\n",
       "    </tr>\n",
       "    <tr>\n",
       "      <th>18976</th>\n",
       "      <td>1000.0</td>\n",
       "      <td>40000.0</td>\n",
       "      <td>70000.0</td>\n",
       "    </tr>\n",
       "    <tr>\n",
       "      <th>18977</th>\n",
       "      <td>NaN</td>\n",
       "      <td>60000.0</td>\n",
       "      <td>165000.0</td>\n",
       "    </tr>\n",
       "    <tr>\n",
       "      <th>18978</th>\n",
       "      <td>NaN</td>\n",
       "      <td>60000.0</td>\n",
       "      <td>167000.0</td>\n",
       "    </tr>\n",
       "  </tbody>\n",
       "</table>\n",
       "<p>18979 rows × 3 columns</p>\n",
       "</div>"
      ],
      "text/plain": [
       "           Wage       Value  Release Clause\n",
       "0      560000.0  67500000.0     138400000.0\n",
       "1      220000.0  46000000.0      75900000.0\n",
       "2      125000.0  75000000.0     159400000.0\n",
       "3      370000.0  87000000.0     161000000.0\n",
       "4      270000.0  90000000.0     166500000.0\n",
       "...         ...         ...             ...\n",
       "18974    1000.0     35000.0         57000.0\n",
       "18975       NaN     60000.0        165000.0\n",
       "18976    1000.0     40000.0         70000.0\n",
       "18977       NaN     60000.0        165000.0\n",
       "18978       NaN     60000.0        167000.0\n",
       "\n",
       "[18979 rows x 3 columns]"
      ]
     },
     "execution_count": 12,
     "metadata": {},
     "output_type": "execute_result"
    }
   ],
   "source": [
    "fifa_df[['Wage', 'Value','Release Clause']]"
   ]
  },
  {
   "cell_type": "code",
   "execution_count": 13,
   "id": "29067cbc",
   "metadata": {
    "execution": {
     "iopub.execute_input": "2024-05-05T16:15:51.848395Z",
     "iopub.status.busy": "2024-05-05T16:15:51.847725Z",
     "iopub.status.idle": "2024-05-05T16:15:52.310665Z",
     "shell.execute_reply": "2024-05-05T16:15:52.309197Z"
    },
    "papermill": {
     "duration": 0.473892,
     "end_time": "2024-05-05T16:15:52.313671",
     "exception": false,
     "start_time": "2024-05-05T16:15:51.839779",
     "status": "completed"
    },
    "tags": []
   },
   "outputs": [
    {
     "data": {
      "text/plain": [
       "<Axes: xlabel='Value', ylabel='Wage'>"
      ]
     },
     "execution_count": 13,
     "metadata": {},
     "output_type": "execute_result"
    },
    {
     "data": {
      "image/png": "[encoded data removed]",
      "text/plain": [
       "<Figure size 640x480 with 1 Axes>"
      ]
     },
     "metadata": {},
     "output_type": "display_data"
    }
   ],
   "source": [
    "sns.scatterplot(x=fifa_df['Value'], y=fifa_df['Wage'])"
   ]
  },
  {
   "cell_type": "code",
   "execution_count": 14,
   "id": "2a0a7fcb",
   "metadata": {
    "execution": {
     "iopub.execute_input": "2024-05-05T16:15:52.331917Z",
     "iopub.status.busy": "2024-05-05T16:15:52.331425Z",
     "iopub.status.idle": "2024-05-05T16:15:53.678093Z",
     "shell.execute_reply": "2024-05-05T16:15:53.676517Z"
    },
    "papermill": {
     "duration": 1.360935,
     "end_time": "2024-05-05T16:15:53.682017",
     "exception": false,
     "start_time": "2024-05-05T16:15:52.321082",
     "status": "completed"
    },
    "tags": []
   },
   "outputs": [
    {
     "data": {
      "text/plain": [
       "<Axes: xlabel='Value', ylabel='Wage'>"
      ]
     },
     "execution_count": 14,
     "metadata": {},
     "output_type": "execute_result"
    },
    {
     "data": {
      "image/png": "[encoded data removed]",
      "text/plain": [
       "<Figure size 640x480 with 1 Axes>"
      ]
     },
     "metadata": {},
     "output_type": "display_data"
    }
   ],
   "source": [
    "sns.regplot(x=fifa_df['Value'], y=fifa_df['Wage'])"
   ]
  },
  {
   "cell_type": "code",
   "execution_count": null,
   "id": "d8320295",
   "metadata": {
    "papermill": {
     "duration": 0.008788,
     "end_time": "2024-05-05T16:15:53.699315",
     "exception": false,
     "start_time": "2024-05-05T16:15:53.690527",
     "status": "completed"
    },
    "tags": []
   },
   "outputs": [],
   "source": []
  }
 ],
 "metadata": {
  "kaggle": {
   "accelerator": "none",
   "dataSources": [
    {
     "datasetId": 923113,
     "sourceId": 1579237,
     "sourceType": "datasetVersion"
    }
   ],
   "dockerImageVersionId": 30664,
   "isGpuEnabled": false,
   "isInternetEnabled": true,
   "language": "python",
   "sourceType": "notebook"
  },
  "kernelspec": {
   "display_name": "Python 3",
   "language": "python",
   "name": "python3"
  },
  "language_info": {
   "codemirror_mode": {
    "name": "ipython",
    "version": 3
   },
   "file_extension": ".py",
   "mimetype": "text/x-python",
   "name": "python",
   "nbconvert_exporter": "python",
   "pygments_lexer": "ipython3",
   "version": "3.10.13"
  },
  "papermill": {
   "default_parameters": {},
   "duration": 11.140165,
   "end_time": "2024-05-05T16:15:54.431930",
   "environment_variables": {},
   "exception": null,
   "input_path": "__notebook__.ipynb",
   "output_path": "__notebook__.ipynb",
   "parameters": {},
   "start_time": "2024-05-05T16:15:43.291765",
   "version": "2.5.0"
  }
 },
 "nbformat": 4,
 "nbformat_minor": 5
}
